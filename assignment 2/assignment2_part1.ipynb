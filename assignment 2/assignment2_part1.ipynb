{
 "cells": [
  {
   "cell_type": "markdown",
   "id": "4ce3c249",
   "metadata": {},
   "source": [
    "**Ques 1. Write a Python program to simulate the following scenarios:** "
   ]
  },
  {
   "cell_type": "markdown",
   "id": "bc11e9af",
   "metadata": {},
   "source": [
    "a). Tossing a coin 10,000 times and calculating the experimental probability of heads and tails. "
   ]
  },
  {
   "cell_type": "code",
   "execution_count": 3,
   "id": "0dd2e7cc",
   "metadata": {},
   "outputs": [
    {
     "name": "stdout",
     "output_type": "stream",
     "text": [
      "Probabilty of Head:  0.4969\n",
      "Probabilty of Tail:  0.5031\n"
     ]
    }
   ],
   "source": [
    "import random \n",
    "\n",
    "def tossing_a_coin(n):\n",
    "    head = 0\n",
    "    tail = 0\n",
    "    for _ in range(n):\n",
    "        toss = random.choice(['H', 'T'])\n",
    "        if toss == 'H':\n",
    "            head += 1\n",
    "        else:\n",
    "            tail += 1\n",
    "\n",
    "    prob_heads= head / n\n",
    "    prob_tails= tail / n\n",
    "\n",
    "    return prob_heads, prob_tails\n",
    "\n",
    "prob = tossing_a_coin(10000)\n",
    "print(\"Probabilty of Head: \", prob[0])\n",
    "print(\"Probabilty of Tail: \", prob[1])"
   ]
  },
  {
   "cell_type": "markdown",
   "id": "3fbee672",
   "metadata": {},
   "source": [
    " b). Rolling two dice and computing the probability of getting a sum of 7. "
   ]
  },
  {
   "cell_type": "code",
   "execution_count": 5,
   "id": "e64bf07b",
   "metadata": {},
   "outputs": [
    {
     "name": "stdout",
     "output_type": "stream",
     "text": [
      "Probabilty of get total 7:  0.1697\n"
     ]
    }
   ],
   "source": [
    "def rolling_the_dice(n):\n",
    "    posibility = 0\n",
    "    for _ in range(n):\n",
    "        dice1 = random.randint(1, 6)\n",
    "        dice2 = random.randint(1, 6)\n",
    "\n",
    "        if dice1 + dice2 == 7:\n",
    "            posibility += 1\n",
    "    \n",
    "    return posibility / n\n",
    "\n",
    "prob = rolling_the_dice(10000)\n",
    "print(\"Probabilty of get total 7: \", prob)"
   ]
  },
  {
   "cell_type": "markdown",
   "id": "9c0f6368",
   "metadata": {},
   "source": [
    "**2. Write a function to estimate the probability of getting at least one \"6\" in 10 rolls of a fair die.**  "
   ]
  },
  {
   "cell_type": "code",
   "execution_count": 18,
   "id": "3100e3de",
   "metadata": {},
   "outputs": [
    {
     "name": "stdout",
     "output_type": "stream",
     "text": [
      "Probabilty of get total 6:  0.0001\n"
     ]
    }
   ],
   "source": [
    "def rolling_ten_dice(n):\n",
    "    success_count = 0\n",
    "    for _ in range(n):\n",
    "        got_six = False\n",
    "        for _ in range(10):  \n",
    "            roll = random.randint(1, 6)\n",
    "            if roll == 6:\n",
    "                got_six = True\n",
    "                break  \n",
    "        if got_six:\n",
    "            success_count += 1\n",
    "        \n",
    "        probability = success_count / n\n",
    "        return probability\n",
    "\n",
    "prob = rolling_ten_dice(10000)\n",
    "print(\"Probabilty of get total 6: \", prob)"
   ]
  }
 ],
 "metadata": {
  "kernelspec": {
   "display_name": "Python 3",
   "language": "python",
   "name": "python3"
  },
  "language_info": {
   "codemirror_mode": {
    "name": "ipython",
    "version": 3
   },
   "file_extension": ".py",
   "mimetype": "text/x-python",
   "name": "python",
   "nbconvert_exporter": "python",
   "pygments_lexer": "ipython3",
   "version": "3.12.4"
  }
 },
 "nbformat": 4,
 "nbformat_minor": 5
}
